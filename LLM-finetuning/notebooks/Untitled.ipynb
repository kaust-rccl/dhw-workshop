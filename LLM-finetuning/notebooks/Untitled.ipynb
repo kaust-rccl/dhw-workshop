{
 "cells": [
  {
   "cell_type": "code",
   "execution_count": 1,
   "id": "0c184105-1fc5-4fba-895d-02ec3803dc25",
   "metadata": {},
   "outputs": [
    {
     "name": "stderr",
     "output_type": "stream",
     "text": [
      "/ibex/user/shaima0d/KSL_Trainings/hpc-saudi-2024/ds-env/lib/python3.10/site-packages/tqdm/auto.py:21: TqdmWarning: IProgress not found. Please update jupyter and ipywidgets. See https://ipywidgets.readthedocs.io/en/stable/user_install.html\n",
      "  from .autonotebook import tqdm as notebook_tqdm\n",
      "Downloading readme: 100%|██████████| 35.3k/35.3k [00:00<00:00, 65.3kB/s]\n",
      "Downloading data: 100%|██████████| 649k/649k [00:01<00:00, 414kB/s]\n",
      "Downloading data: 100%|██████████| 75.7k/75.7k [00:00<00:00, 98.5kB/s]\n",
      "Downloading data: 100%|██████████| 308k/308k [00:00<00:00, 387kB/s]\n",
      "Generating train split: 100%|██████████| 3668/3668 [00:00<00:00, 164706.15 examples/s]\n",
      "Generating validation split: 100%|██████████| 408/408 [00:00<00:00, 89268.44 examples/s]\n",
      "Generating test split: 100%|██████████| 1725/1725 [00:00<00:00, 196688.17 examples/s]\n"
     ]
    }
   ],
   "source": [
    "from datasets import load_dataset\n",
    "dataset = load_dataset('glue', 'mrpc', split='train')"
   ]
  },
  {
   "cell_type": "code",
   "execution_count": 2,
   "id": "8fc455fe-6cc3-41cf-a777-c7d22d9597d1",
   "metadata": {},
   "outputs": [
    {
     "data": {
      "text/plain": [
       "Dataset({\n",
       "    features: ['sentence1', 'sentence2', 'label', 'idx'],\n",
       "    num_rows: 3668\n",
       "})"
      ]
     },
     "execution_count": 2,
     "metadata": {},
     "output_type": "execute_result"
    }
   ],
   "source": [
    "dataset"
   ]
  },
  {
   "cell_type": "code",
   "execution_count": 3,
   "id": "1219131f-8edf-475e-bf25-4bfef7922169",
   "metadata": {},
   "outputs": [],
   "source": [
    "small_dataset = dataset.select(range(50))"
   ]
  },
  {
   "cell_type": "code",
   "execution_count": 4,
   "id": "70b1a537-ae40-464b-8e97-be8c0964ce02",
   "metadata": {},
   "outputs": [],
   "source": [
    "yahoo_answers_qa = load_dataset(\"yahoo_answers_qa\")"
   ]
  },
  {
   "cell_type": "code",
   "execution_count": 5,
   "id": "cd694180-25f7-4a0c-894d-07e8ab0ef82d",
   "metadata": {},
   "outputs": [
    {
     "data": {
      "text/plain": [
       "DatasetDict({\n",
       "    train: Dataset({\n",
       "        features: ['id', 'question', 'answer', 'nbestanswers', 'main_category'],\n",
       "        num_rows: 87362\n",
       "    })\n",
       "})"
      ]
     },
     "execution_count": 5,
     "metadata": {},
     "output_type": "execute_result"
    }
   ],
   "source": [
    "yahoo_answers_qa"
   ]
  },
  {
   "cell_type": "code",
   "execution_count": 6,
   "id": "59518c0b-a3a5-4cba-9640-fac4d684e9a3",
   "metadata": {},
   "outputs": [
    {
     "data": {
      "text/plain": [
       "datasets.dataset_dict.DatasetDict"
      ]
     },
     "execution_count": 6,
     "metadata": {},
     "output_type": "execute_result"
    }
   ],
   "source": [
    "type(yahoo_answers_qa)"
   ]
  },
  {
   "cell_type": "code",
   "execution_count": 9,
   "id": "d2ee7374-d42d-4e58-bfa3-3f31f4769915",
   "metadata": {},
   "outputs": [
    {
     "data": {
      "text/plain": [
       "datasets.arrow_dataset.Dataset"
      ]
     },
     "execution_count": 9,
     "metadata": {},
     "output_type": "execute_result"
    }
   ],
   "source": [
    "type(yahoo_answers_qa['train'])"
   ]
  },
  {
   "cell_type": "code",
   "execution_count": null,
   "id": "701f0bc5-aa3b-44bf-a36e-663d495a57e0",
   "metadata": {},
   "outputs": [],
   "source": []
  }
 ],
 "metadata": {
  "kernelspec": {
   "display_name": "Python 3 (ipykernel)",
   "language": "python",
   "name": "python3"
  },
  "language_info": {
   "codemirror_mode": {
    "name": "ipython",
    "version": 3
   },
   "file_extension": ".py",
   "mimetype": "text/x-python",
   "name": "python",
   "nbconvert_exporter": "python",
   "pygments_lexer": "ipython3",
   "version": "3.10.14"
  }
 },
 "nbformat": 4,
 "nbformat_minor": 5
}
