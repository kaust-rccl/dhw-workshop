{
 "cells": [
  {
   "cell_type": "code",
   "execution_count": 1,
   "id": "11c8a7b2-e6a3-4433-b7ac-c4c1f199c16d",
   "metadata": {
    "tags": []
   },
   "outputs": [
    {
     "name": "stderr",
     "output_type": "stream",
     "text": [
      "/ibex/user/shaima0d/KSL_Trainings/hpc-saudi-2024/ds-env/lib/python3.10/site-packages/tqdm/auto.py:21: TqdmWarning: IProgress not found. Please update jupyter and ipywidgets. See https://ipywidgets.readthedocs.io/en/stable/user_install.html\n",
      "  from .autonotebook import tqdm as notebook_tqdm\n"
     ]
    }
   ],
   "source": [
    "import torch \n",
    "from transformers import AutoConfig,AutoModel\n",
    "model_name = \"google-bert/bert-base-uncased\"\n",
    "model_config = AutoConfig.from_pretrained(model_name)\n",
    "model=AutoModel.from_pretrained(model_name)"
   ]
  },
  {
   "cell_type": "code",
   "execution_count": 2,
   "id": "9c4a88d2-8240-43ab-8aaa-5aefafdd4d99",
   "metadata": {
    "tags": []
   },
   "outputs": [],
   "source": [
    "hidden_layers = model_config.num_hidden_layers\n",
    "hidden_size = model_config.hidden_size\n",
    "attention_heads = model_config.num_attention_heads"
   ]
  },
  {
   "cell_type": "code",
   "execution_count": 3,
   "id": "e07a39b1-7db1-4943-aeb6-40b6059f7b43",
   "metadata": {
    "tags": []
   },
   "outputs": [
    {
     "name": "stdout",
     "output_type": "stream",
     "text": [
      "Model: google-bert/bert-base-uncased\n",
      "Hidden Layers (L): 12\n",
      "Hidden Size (h): 768\n",
      "Attention Heads (a): 12\n"
     ]
    }
   ],
   "source": [
    "print(\"Model: \"+str(model_name))\n",
    "print(\"Hidden Layers (L): \"+str(hidden_layers))\n",
    "print(\"Hidden Size (h): \"+str(hidden_size))\n",
    "print(\"Attention Heads (a): \"+str(attention_heads))"
   ]
  },
  {
   "cell_type": "code",
   "execution_count": 4,
   "id": "3ae7e567-f3ec-48c9-8894-c6b3391ce686",
   "metadata": {
    "tags": []
   },
   "outputs": [
    {
     "data": {
      "text/plain": [
       "BertConfig {\n",
       "  \"_name_or_path\": \"google-bert/bert-base-uncased\",\n",
       "  \"architectures\": [\n",
       "    \"BertForMaskedLM\"\n",
       "  ],\n",
       "  \"attention_probs_dropout_prob\": 0.1,\n",
       "  \"classifier_dropout\": null,\n",
       "  \"gradient_checkpointing\": false,\n",
       "  \"hidden_act\": \"gelu\",\n",
       "  \"hidden_dropout_prob\": 0.1,\n",
       "  \"hidden_size\": 768,\n",
       "  \"initializer_range\": 0.02,\n",
       "  \"intermediate_size\": 3072,\n",
       "  \"layer_norm_eps\": 1e-12,\n",
       "  \"max_position_embeddings\": 512,\n",
       "  \"model_type\": \"bert\",\n",
       "  \"num_attention_heads\": 12,\n",
       "  \"num_hidden_layers\": 12,\n",
       "  \"pad_token_id\": 0,\n",
       "  \"position_embedding_type\": \"absolute\",\n",
       "  \"transformers_version\": \"4.44.1\",\n",
       "  \"type_vocab_size\": 2,\n",
       "  \"use_cache\": true,\n",
       "  \"vocab_size\": 30522\n",
       "}"
      ]
     },
     "execution_count": 4,
     "metadata": {},
     "output_type": "execute_result"
    }
   ],
   "source": [
    "model_config"
   ]
  },
  {
   "cell_type": "code",
   "execution_count": 10,
   "id": "caea0af1-2161-4312-90fa-a725ad570c1b",
   "metadata": {},
   "outputs": [
    {
     "data": {
      "text/plain": [
       "109.48224"
      ]
     },
     "execution_count": 10,
     "metadata": {},
     "output_type": "execute_result"
    }
   ],
   "source": [
    "model.num_parameters()/1e6\n"
   ]
  },
  {
   "cell_type": "code",
   "execution_count": null,
   "id": "1da8b684-de5a-4e65-bb65-f3aa4c68e37d",
   "metadata": {},
   "outputs": [],
   "source": []
  }
 ],
 "metadata": {
  "kernelspec": {
   "display_name": "Python 3 (ipykernel)",
   "language": "python",
   "name": "python3"
  },
  "language_info": {
   "codemirror_mode": {
    "name": "ipython",
    "version": 3
   },
   "file_extension": ".py",
   "mimetype": "text/x-python",
   "name": "python",
   "nbconvert_exporter": "python",
   "pygments_lexer": "ipython3",
   "version": "3.10.14"
  }
 },
 "nbformat": 4,
 "nbformat_minor": 5
}
