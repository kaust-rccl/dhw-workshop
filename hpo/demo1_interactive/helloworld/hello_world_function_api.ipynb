{
 "cells": [
  {
   "cell_type": "code",
   "execution_count": 1,
   "id": "86db6eef",
   "metadata": {
    "tags": []
   },
   "outputs": [],
   "source": [
    "import ray\n",
    "from ray import tune\n",
    "import time"
   ]
  },
  {
   "cell_type": "code",
   "execution_count": 4,
   "id": "7b981417",
   "metadata": {
    "tags": []
   },
   "outputs": [],
   "source": [
    "f=open('../head_node_info','r+')\n",
    "buf=f.readlines()\n",
    "buf=buf[0].strip().split()\n",
    "address=buf[0]\n",
    "redis_pass=buf[1]\n",
    "f.close()"
   ]
  },
  {
   "cell_type": "code",
   "execution_count": 5,
   "id": "9c023cb2",
   "metadata": {
    "tags": []
   },
   "outputs": [
    {
     "name": "stderr",
     "output_type": "stream",
     "text": [
      "2023-02-13 00:13:29,355\tINFO worker.py:1352 -- Connecting to existing Ray cluster at address: 10.109.75.157:45021...\n",
      "2023-02-13 00:13:29,395\tINFO worker.py:1529 -- Connected to Ray cluster. View the dashboard at \u001b[1m\u001b[32m10.109.75.157:33694 \u001b[39m\u001b[22m\n"
     ]
    },
    {
     "data": {
      "text/html": [
       "<div>\n",
       "    <div style=\"margin-left: 50px;display: flex;flex-direction: row;align-items: center\">\n",
       "        <h3 style=\"color: var(--jp-ui-font-color0)\">Ray</h3>\n",
       "        <svg version=\"1.1\" id=\"ray\" width=\"3em\" viewBox=\"0 0 144.5 144.6\" style=\"margin-left: 3em;margin-right: 3em\">\n",
       "            <g id=\"layer-1\">\n",
       "                <path fill=\"#00a2e9\" class=\"st0\" d=\"M97.3,77.2c-3.8-1.1-6.2,0.9-8.3,5.1c-3.5,6.8-9.9,9.9-17.4,9.6S58,88.1,54.8,81.2c-1.4-3-3-4-6.3-4.1\n",
       "                    c-5.6-0.1-9.9,0.1-13.1,6.4c-3.8,7.6-13.6,10.2-21.8,7.6C5.2,88.4-0.4,80.5,0,71.7c0.1-8.4,5.7-15.8,13.8-18.2\n",
       "                    c8.4-2.6,17.5,0.7,22.3,8c1.3,1.9,1.3,5.2,3.6,5.6c3.9,0.6,8,0.2,12,0.2c1.8,0,1.9-1.6,2.4-2.8c3.5-7.8,9.7-11.8,18-11.9\n",
       "                    c8.2-0.1,14.4,3.9,17.8,11.4c1.3,2.8,2.9,3.6,5.7,3.3c1-0.1,2,0.1,3,0c2.8-0.5,6.4,1.7,8.1-2.7s-2.3-5.5-4.1-7.5\n",
       "                    c-5.1-5.7-10.9-10.8-16.1-16.3C84,38,81.9,37.1,78,38.3C66.7,42,56.2,35.7,53,24.1C50.3,14,57.3,2.8,67.7,0.5\n",
       "                    C78.4-2,89,4.7,91.5,15.3c0.1,0.3,0.1,0.5,0.2,0.8c0.7,3.4,0.7,6.9-0.8,9.8c-1.7,3.2-0.8,5,1.5,7.2c6.7,6.5,13.3,13,19.8,19.7\n",
       "                    c1.8,1.8,3,2.1,5.5,1.2c9.1-3.4,17.9-0.6,23.4,7c4.8,6.9,4.6,16.1-0.4,22.9c-5.4,7.2-14.2,9.9-23.1,6.5c-2.3-0.9-3.5-0.6-5.1,1.1\n",
       "                    c-6.7,6.9-13.6,13.7-20.5,20.4c-1.8,1.8-2.5,3.2-1.4,5.9c3.5,8.7,0.3,18.6-7.7,23.6c-7.9,5-18.2,3.8-24.8-2.9\n",
       "                    c-6.4-6.4-7.4-16.2-2.5-24.3c4.9-7.8,14.5-11,23.1-7.8c3,1.1,4.7,0.5,6.9-1.7C91.7,98.4,98,92.3,104.2,86c1.6-1.6,4.1-2.7,2.6-6.2\n",
       "                    c-1.4-3.3-3.8-2.5-6.2-2.6C99.8,77.2,98.9,77.2,97.3,77.2z M72.1,29.7c5.5,0.1,9.9-4.3,10-9.8c0-0.1,0-0.2,0-0.3\n",
       "                    C81.8,14,77,9.8,71.5,10.2c-5,0.3-9,4.2-9.3,9.2c-0.2,5.5,4,10.1,9.5,10.3C71.8,29.7,72,29.7,72.1,29.7z M72.3,62.3\n",
       "                    c-5.4-0.1-9.9,4.2-10.1,9.7c0,0.2,0,0.3,0,0.5c0.2,5.4,4.5,9.7,9.9,10c5.1,0.1,9.9-4.7,10.1-9.8c0.2-5.5-4-10-9.5-10.3\n",
       "                    C72.6,62.3,72.4,62.3,72.3,62.3z M115,72.5c0.1,5.4,4.5,9.7,9.8,9.9c5.6-0.2,10-4.8,10-10.4c-0.2-5.4-4.6-9.7-10-9.7\n",
       "                    c-5.3-0.1-9.8,4.2-9.9,9.5C115,72.1,115,72.3,115,72.5z M19.5,62.3c-5.4,0.1-9.8,4.4-10,9.8c-0.1,5.1,5.2,10.4,10.2,10.3\n",
       "                    c5.6-0.2,10-4.9,9.8-10.5c-0.1-5.4-4.5-9.7-9.9-9.6C19.6,62.3,19.5,62.3,19.5,62.3z M71.8,134.6c5.9,0.2,10.3-3.9,10.4-9.6\n",
       "                    c0.5-5.5-3.6-10.4-9.1-10.8c-5.5-0.5-10.4,3.6-10.8,9.1c0,0.5,0,0.9,0,1.4c-0.2,5.3,4,9.8,9.3,10\n",
       "                    C71.6,134.6,71.7,134.6,71.8,134.6z\"/>\n",
       "            </g>\n",
       "        </svg>\n",
       "        <table>\n",
       "            <tr>\n",
       "                <td style=\"text-align: left\"><b>Python version:</b></td>\n",
       "                <td style=\"text-align: left\"><b>3.9.16</b></td>\n",
       "            </tr>\n",
       "            <tr>\n",
       "                <td style=\"text-align: left\"><b>Ray version:</b></td>\n",
       "                <td style=\"text-align: left\"><b> 2.2.0</b></td>\n",
       "            </tr>\n",
       "            <tr>\n",
       "    <td style=\"text-align: left\"><b>Dashboard:</b></td>\n",
       "    <td style=\"text-align: left\"><b><a href=\"http://10.109.75.157:33694\" target=\"_blank\">http://10.109.75.157:33694</a></b></td>\n",
       "</tr>\n",
       "\n",
       "        </table>\n",
       "    </div>\n",
       "</div>\n"
      ],
      "text/plain": [
       "RayContext(dashboard_url='10.109.75.157:33694', python_version='3.9.16', ray_version='2.2.0', ray_commit='b6af0887ee5f2e460202133791ad941a41f15beb', address_info={'node_ip_address': '10.109.75.146', 'raylet_ip_address': '10.109.75.146', 'redis_address': None, 'object_store_address': '/tmp/ray/session_2023-02-13_00-01-52_506920_262205/sockets/plasma_store', 'raylet_socket_name': '/tmp/ray/session_2023-02-13_00-01-52_506920_262205/sockets/raylet', 'webui_url': '10.109.75.157:33694', 'session_dir': '/tmp/ray/session_2023-02-13_00-01-52_506920_262205', 'metrics_export_port': 63184, 'gcs_address': '10.109.75.157:45021', 'address': '10.109.75.157:45021', 'dashboard_agent_listen_port': 52365, 'node_id': '5e50a9a2aa5ae2778be56d7e23b43cde7e1ab7c898634f24f41343ca'})"
      ]
     },
     "execution_count": 5,
     "metadata": {},
     "output_type": "execute_result"
    }
   ],
   "source": [
    "ray.init(address=address,_redis_password=redis_pass)"
   ]
  },
  {
   "cell_type": "code",
   "execution_count": 6,
   "id": "a1f8afac",
   "metadata": {
    "tags": []
   },
   "outputs": [],
   "source": [
    "def objective(x, a, b):\n",
    "    return a * (x ** 0.5) + b"
   ]
  },
  {
   "cell_type": "code",
   "execution_count": 7,
   "id": "91454151",
   "metadata": {
    "tags": []
   },
   "outputs": [],
   "source": [
    "def trainable (config):\n",
    "    a,b = config['a'],config['b']\n",
    "    # call the evalution funtion on diferent values of x\n",
    "    for x in range(20):\n",
    "        score = objective (x, a, b)\n",
    "        # Send results to Tune\n",
    "        tune.report(score = score)  "
   ]
  },
  {
   "cell_type": "markdown",
   "id": "753b56be",
   "metadata": {},
   "source": [
    "analysis = tune.run(trainable,\n",
    "                    num_samples=100,\n",
    "                    resources_per_trial={'cpu':1},\n",
    "                    max_concurrent_trials=6,\n",
    "                    config={\n",
    "                        \"a\": tune.uniform(0, 20),\n",
    "                        \"b\": tune.uniform(0,20)} )"
   ]
  },
  {
   "cell_type": "code",
   "execution_count": 8,
   "id": "025fdbf7",
   "metadata": {
    "tags": []
   },
   "outputs": [
    {
     "data": {
      "text/html": [
       "<div class=\"tuneStatus\">\n",
       "  <div style=\"display: flex;flex-direction: row\">\n",
       "    <div style=\"display: flex;flex-direction: column;\">\n",
       "      <h3>Tune Status</h3>\n",
       "      <table>\n",
       "<tbody>\n",
       "<tr><td>Current time:</td><td>2023-02-13 00:13:47</td></tr>\n",
       "<tr><td>Running for: </td><td>00:00:13.24        </td></tr>\n",
       "<tr><td>Memory:      </td><td>140.7/376.6 GiB    </td></tr>\n",
       "</tbody>\n",
       "</table>\n",
       "    </div>\n",
       "    <div class=\"vDivider\"></div>\n",
       "    <div class=\"systemInfo\">\n",
       "      <h3>System Info</h3>\n",
       "      Using FIFO scheduling algorithm.<br>Resources requested: 0/6 CPUs, 0/0 GPUs, 0.0/331.24 GiB heap, 0.0/145.95 GiB objects\n",
       "    </div>\n",
       "    \n",
       "  </div>\n",
       "  <div class=\"hDivider\"></div>\n",
       "  <div class=\"trialStatus\">\n",
       "    <h3>Trial Status</h3>\n",
       "    <table>\n",
       "<thead>\n",
       "<tr><th>Trial name           </th><th>status    </th><th>loc                 </th><th style=\"text-align: right;\">         a</th><th style=\"text-align: right;\">        b</th><th style=\"text-align: right;\">  iter</th><th style=\"text-align: right;\">  total time (s)</th><th style=\"text-align: right;\">   score</th></tr>\n",
       "</thead>\n",
       "<tbody>\n",
       "<tr><td>trainable_1b349_00000</td><td>TERMINATED</td><td>10.109.75.146:140611</td><td style=\"text-align: right;\"> 8.22973  </td><td style=\"text-align: right;\">15.4398  </td><td style=\"text-align: right;\">    20</td><td style=\"text-align: right;\">       0.178755 </td><td style=\"text-align: right;\">51.3124 </td></tr>\n",
       "<tr><td>trainable_1b349_00001</td><td>TERMINATED</td><td>10.109.75.157:264946</td><td style=\"text-align: right;\">15.042    </td><td style=\"text-align: right;\"> 4.04194 </td><td style=\"text-align: right;\">    20</td><td style=\"text-align: right;\">       4.7502   </td><td style=\"text-align: right;\">69.6087 </td></tr>\n",
       "<tr><td>trainable_1b349_00002</td><td>TERMINATED</td><td>10.109.75.157:264947</td><td style=\"text-align: right;\">14.1985   </td><td style=\"text-align: right;\">19.395   </td><td style=\"text-align: right;\">    20</td><td style=\"text-align: right;\">       0.308232 </td><td style=\"text-align: right;\">81.2848 </td></tr>\n",
       "<tr><td>trainable_1b349_00003</td><td>TERMINATED</td><td>10.109.75.146:140661</td><td style=\"text-align: right;\"> 1.34605  </td><td style=\"text-align: right;\">12.9503  </td><td style=\"text-align: right;\">    20</td><td style=\"text-align: right;\">       5.23731  </td><td style=\"text-align: right;\">18.8175 </td></tr>\n",
       "<tr><td>trainable_1b349_00004</td><td>TERMINATED</td><td>10.109.75.146:140662</td><td style=\"text-align: right;\"> 0.0580422</td><td style=\"text-align: right;\">13.5627  </td><td style=\"text-align: right;\">    20</td><td style=\"text-align: right;\">       0.758024 </td><td style=\"text-align: right;\">13.8157 </td></tr>\n",
       "<tr><td>trainable_1b349_00005</td><td>TERMINATED</td><td>10.109.75.146:140664</td><td style=\"text-align: right;\"> 6.8737   </td><td style=\"text-align: right;\">19.7102  </td><td style=\"text-align: right;\">    20</td><td style=\"text-align: right;\">       5.20038  </td><td style=\"text-align: right;\">49.672  </td></tr>\n",
       "<tr><td>trainable_1b349_00006</td><td>TERMINATED</td><td>10.109.75.146:140611</td><td style=\"text-align: right;\">16.1366   </td><td style=\"text-align: right;\">18.0124  </td><td style=\"text-align: right;\">    20</td><td style=\"text-align: right;\">       0.0884604</td><td style=\"text-align: right;\">88.3502 </td></tr>\n",
       "<tr><td>trainable_1b349_00007</td><td>TERMINATED</td><td>10.109.75.146:140611</td><td style=\"text-align: right;\"> 5.23406  </td><td style=\"text-align: right;\">13.2946  </td><td style=\"text-align: right;\">    20</td><td style=\"text-align: right;\">       0.0968163</td><td style=\"text-align: right;\">36.1093 </td></tr>\n",
       "<tr><td>trainable_1b349_00008</td><td>TERMINATED</td><td>10.109.75.146:140611</td><td style=\"text-align: right;\"> 1.35972  </td><td style=\"text-align: right;\">18.265   </td><td style=\"text-align: right;\">    20</td><td style=\"text-align: right;\">       0.0700519</td><td style=\"text-align: right;\">24.1918 </td></tr>\n",
       "<tr><td>trainable_1b349_00009</td><td>TERMINATED</td><td>10.109.75.146:140611</td><td style=\"text-align: right;\"> 1.89801  </td><td style=\"text-align: right;\">16.1473  </td><td style=\"text-align: right;\">    20</td><td style=\"text-align: right;\">       0.0910935</td><td style=\"text-align: right;\">24.4205 </td></tr>\n",
       "<tr><td>trainable_1b349_00010</td><td>TERMINATED</td><td>10.109.75.146:140611</td><td style=\"text-align: right;\"> 8.45031  </td><td style=\"text-align: right;\"> 3.81934 </td><td style=\"text-align: right;\">    20</td><td style=\"text-align: right;\">       0.0723817</td><td style=\"text-align: right;\">40.6534 </td></tr>\n",
       "<tr><td>trainable_1b349_00011</td><td>TERMINATED</td><td>10.109.75.146:140611</td><td style=\"text-align: right;\"> 6.27794  </td><td style=\"text-align: right;\"> 5.66012 </td><td style=\"text-align: right;\">    20</td><td style=\"text-align: right;\">       0.0845535</td><td style=\"text-align: right;\">33.025  </td></tr>\n",
       "<tr><td>trainable_1b349_00012</td><td>TERMINATED</td><td>10.109.75.146:140611</td><td style=\"text-align: right;\"> 4.66351  </td><td style=\"text-align: right;\">19.9879  </td><td style=\"text-align: right;\">    20</td><td style=\"text-align: right;\">       0.0773044</td><td style=\"text-align: right;\">40.3156 </td></tr>\n",
       "<tr><td>trainable_1b349_00013</td><td>TERMINATED</td><td>10.109.75.146:140611</td><td style=\"text-align: right;\"> 5.7323   </td><td style=\"text-align: right;\">16.0779  </td><td style=\"text-align: right;\">    20</td><td style=\"text-align: right;\">       0.0731924</td><td style=\"text-align: right;\">41.0644 </td></tr>\n",
       "<tr><td>trainable_1b349_00014</td><td>TERMINATED</td><td>10.109.75.146:140611</td><td style=\"text-align: right;\"> 0.119153 </td><td style=\"text-align: right;\"> 0.949374</td><td style=\"text-align: right;\">    20</td><td style=\"text-align: right;\">       0.0857847</td><td style=\"text-align: right;\"> 1.46875</td></tr>\n",
       "<tr><td>trainable_1b349_00015</td><td>TERMINATED</td><td>10.109.75.146:140611</td><td style=\"text-align: right;\"> 7.40235  </td><td style=\"text-align: right;\"> 8.187   </td><td style=\"text-align: right;\">    20</td><td style=\"text-align: right;\">       0.118192 </td><td style=\"text-align: right;\">40.4531 </td></tr>\n",
       "<tr><td>trainable_1b349_00016</td><td>TERMINATED</td><td>10.109.75.146:140611</td><td style=\"text-align: right;\"> 4.35687  </td><td style=\"text-align: right;\">17.4588  </td><td style=\"text-align: right;\">    20</td><td style=\"text-align: right;\">       0.0798934</td><td style=\"text-align: right;\">36.45   </td></tr>\n",
       "<tr><td>trainable_1b349_00017</td><td>TERMINATED</td><td>10.109.75.146:140611</td><td style=\"text-align: right;\">19.2668   </td><td style=\"text-align: right;\">10.1821  </td><td style=\"text-align: right;\">    20</td><td style=\"text-align: right;\">       0.0704467</td><td style=\"text-align: right;\">94.1641 </td></tr>\n",
       "<tr><td>trainable_1b349_00018</td><td>TERMINATED</td><td>10.109.75.146:140611</td><td style=\"text-align: right;\">18.305    </td><td style=\"text-align: right;\">16.2147  </td><td style=\"text-align: right;\">    20</td><td style=\"text-align: right;\">       0.0730739</td><td style=\"text-align: right;\">96.0044 </td></tr>\n",
       "<tr><td>trainable_1b349_00019</td><td>TERMINATED</td><td>10.109.75.146:140611</td><td style=\"text-align: right;\"> 4.73682  </td><td style=\"text-align: right;\">13.9594  </td><td style=\"text-align: right;\">    20</td><td style=\"text-align: right;\">       0.0740464</td><td style=\"text-align: right;\">34.6067 </td></tr>\n",
       "</tbody>\n",
       "</table>\n",
       "  </div>\n",
       "</div>\n",
       "<style>\n",
       ".tuneStatus {\n",
       "  color: var(--jp-ui-font-color1);\n",
       "}\n",
       ".tuneStatus .systemInfo {\n",
       "  display: flex;\n",
       "  flex-direction: column;\n",
       "}\n",
       ".tuneStatus td {\n",
       "  white-space: nowrap;\n",
       "}\n",
       ".tuneStatus .trialStatus {\n",
       "  display: flex;\n",
       "  flex-direction: column;\n",
       "}\n",
       ".tuneStatus h3 {\n",
       "  font-weight: bold;\n",
       "}\n",
       ".tuneStatus .hDivider {\n",
       "  border-bottom-width: var(--jp-border-width);\n",
       "  border-bottom-color: var(--jp-border-color0);\n",
       "  border-bottom-style: solid;\n",
       "}\n",
       ".tuneStatus .vDivider {\n",
       "  border-left-width: var(--jp-border-width);\n",
       "  border-left-color: var(--jp-border-color0);\n",
       "  border-left-style: solid;\n",
       "  margin: 0.5em 1em 0.5em 1em;\n",
       "}\n",
       "</style>\n"
      ],
      "text/plain": [
       "<IPython.core.display.HTML object>"
      ]
     },
     "metadata": {},
     "output_type": "display_data"
    },
    {
     "data": {
      "text/html": [
       "<div class=\"trialProgress\">\n",
       "  <h3>Trial Progress</h3>\n",
       "  <table>\n",
       "<thead>\n",
       "<tr><th>Trial name           </th><th>date               </th><th>done  </th><th>episodes_total  </th><th>experiment_id                   </th><th>hostname  </th><th style=\"text-align: right;\">  iterations_since_restore</th><th>node_ip      </th><th style=\"text-align: right;\">   pid</th><th style=\"text-align: right;\">   score</th><th style=\"text-align: right;\">  time_since_restore</th><th style=\"text-align: right;\">  time_this_iter_s</th><th style=\"text-align: right;\">  time_total_s</th><th style=\"text-align: right;\">  timestamp</th><th style=\"text-align: right;\">  timesteps_since_restore</th><th>timesteps_total  </th><th style=\"text-align: right;\">  training_iteration</th><th>trial_id   </th><th style=\"text-align: right;\">  warmup_time</th></tr>\n",
       "</thead>\n",
       "<tbody>\n",
       "<tr><td>trainable_1b349_00000</td><td>2023-02-13_00-13-37</td><td>True  </td><td>                </td><td>94840e31b7634e229ddc84afaeca5f97</td><td>cn605-25-r</td><td style=\"text-align: right;\">                        20</td><td>10.109.75.146</td><td style=\"text-align: right;\">140611</td><td style=\"text-align: right;\">51.3124 </td><td style=\"text-align: right;\">           0.178755 </td><td style=\"text-align: right;\">        0.00910783</td><td style=\"text-align: right;\">     0.178755 </td><td style=\"text-align: right;\"> 1676236417</td><td style=\"text-align: right;\">                        0</td><td>                 </td><td style=\"text-align: right;\">                  20</td><td>1b349_00000</td><td style=\"text-align: right;\">   0.0120587 </td></tr>\n",
       "<tr><td>trainable_1b349_00001</td><td>2023-02-13_00-13-45</td><td>True  </td><td>                </td><td>5892e1daa6754d6ca0d899affdfff2d4</td><td>cn605-27-l</td><td style=\"text-align: right;\">                        20</td><td>10.109.75.157</td><td style=\"text-align: right;\">264946</td><td style=\"text-align: right;\">69.6087 </td><td style=\"text-align: right;\">           4.7502   </td><td style=\"text-align: right;\">        4.41209   </td><td style=\"text-align: right;\">     4.7502   </td><td style=\"text-align: right;\"> 1676236425</td><td style=\"text-align: right;\">                        0</td><td>                 </td><td style=\"text-align: right;\">                  20</td><td>1b349_00001</td><td style=\"text-align: right;\">   0.00718784</td></tr>\n",
       "<tr><td>trainable_1b349_00002</td><td>2023-02-13_00-13-41</td><td>True  </td><td>                </td><td>66762620ba7e477d98e4299dd43cdc28</td><td>cn605-27-l</td><td style=\"text-align: right;\">                        20</td><td>10.109.75.157</td><td style=\"text-align: right;\">264947</td><td style=\"text-align: right;\">81.2848 </td><td style=\"text-align: right;\">           0.308232 </td><td style=\"text-align: right;\">        0.00657654</td><td style=\"text-align: right;\">     0.308232 </td><td style=\"text-align: right;\"> 1676236421</td><td style=\"text-align: right;\">                        0</td><td>                 </td><td style=\"text-align: right;\">                  20</td><td>1b349_00002</td><td style=\"text-align: right;\">   0.00832653</td></tr>\n",
       "<tr><td>trainable_1b349_00003</td><td>2023-02-13_00-13-45</td><td>True  </td><td>                </td><td>09a841384f814ca1a3d15496afca7e3d</td><td>cn605-25-r</td><td style=\"text-align: right;\">                        20</td><td>10.109.75.146</td><td style=\"text-align: right;\">140661</td><td style=\"text-align: right;\">18.8175 </td><td style=\"text-align: right;\">           5.23731  </td><td style=\"text-align: right;\">        0.0254576 </td><td style=\"text-align: right;\">     5.23731  </td><td style=\"text-align: right;\"> 1676236425</td><td style=\"text-align: right;\">                        0</td><td>                 </td><td style=\"text-align: right;\">                  20</td><td>1b349_00003</td><td style=\"text-align: right;\">   0.0043838 </td></tr>\n",
       "<tr><td>trainable_1b349_00004</td><td>2023-02-13_00-13-41</td><td>True  </td><td>                </td><td>a97e673ed3bd4defb0a4851864918425</td><td>cn605-25-r</td><td style=\"text-align: right;\">                        20</td><td>10.109.75.146</td><td style=\"text-align: right;\">140662</td><td style=\"text-align: right;\">13.8157 </td><td style=\"text-align: right;\">           0.758024 </td><td style=\"text-align: right;\">        0.0268388 </td><td style=\"text-align: right;\">     0.758024 </td><td style=\"text-align: right;\"> 1676236421</td><td style=\"text-align: right;\">                        0</td><td>                 </td><td style=\"text-align: right;\">                  20</td><td>1b349_00004</td><td style=\"text-align: right;\">   0.00542808</td></tr>\n",
       "<tr><td>trainable_1b349_00005</td><td>2023-02-13_00-13-45</td><td>True  </td><td>                </td><td>e84cd38eda3e4999a35394d71435cb61</td><td>cn605-25-r</td><td style=\"text-align: right;\">                        20</td><td>10.109.75.146</td><td style=\"text-align: right;\">140664</td><td style=\"text-align: right;\">49.672  </td><td style=\"text-align: right;\">           5.20038  </td><td style=\"text-align: right;\">        4.42261   </td><td style=\"text-align: right;\">     5.20038  </td><td style=\"text-align: right;\"> 1676236425</td><td style=\"text-align: right;\">                        0</td><td>                 </td><td style=\"text-align: right;\">                  20</td><td>1b349_00005</td><td style=\"text-align: right;\">   0.00784326</td></tr>\n",
       "<tr><td>trainable_1b349_00006</td><td>2023-02-13_00-13-38</td><td>True  </td><td>                </td><td>94840e31b7634e229ddc84afaeca5f97</td><td>cn605-25-r</td><td style=\"text-align: right;\">                        20</td><td>10.109.75.146</td><td style=\"text-align: right;\">140611</td><td style=\"text-align: right;\">88.3502 </td><td style=\"text-align: right;\">           0.0884604</td><td style=\"text-align: right;\">        0.003057  </td><td style=\"text-align: right;\">     0.0884604</td><td style=\"text-align: right;\"> 1676236418</td><td style=\"text-align: right;\">                        0</td><td>                 </td><td style=\"text-align: right;\">                  20</td><td>1b349_00006</td><td style=\"text-align: right;\">   0.0120587 </td></tr>\n",
       "<tr><td>trainable_1b349_00007</td><td>2023-02-13_00-13-38</td><td>True  </td><td>                </td><td>94840e31b7634e229ddc84afaeca5f97</td><td>cn605-25-r</td><td style=\"text-align: right;\">                        20</td><td>10.109.75.146</td><td style=\"text-align: right;\">140611</td><td style=\"text-align: right;\">36.1093 </td><td style=\"text-align: right;\">           0.0968163</td><td style=\"text-align: right;\">        0.00245261</td><td style=\"text-align: right;\">     0.0968163</td><td style=\"text-align: right;\"> 1676236418</td><td style=\"text-align: right;\">                        0</td><td>                 </td><td style=\"text-align: right;\">                  20</td><td>1b349_00007</td><td style=\"text-align: right;\">   0.0120587 </td></tr>\n",
       "<tr><td>trainable_1b349_00008</td><td>2023-02-13_00-13-38</td><td>True  </td><td>                </td><td>94840e31b7634e229ddc84afaeca5f97</td><td>cn605-25-r</td><td style=\"text-align: right;\">                        20</td><td>10.109.75.146</td><td style=\"text-align: right;\">140611</td><td style=\"text-align: right;\">24.1918 </td><td style=\"text-align: right;\">           0.0700519</td><td style=\"text-align: right;\">        0.00258875</td><td style=\"text-align: right;\">     0.0700519</td><td style=\"text-align: right;\"> 1676236418</td><td style=\"text-align: right;\">                        0</td><td>                 </td><td style=\"text-align: right;\">                  20</td><td>1b349_00008</td><td style=\"text-align: right;\">   0.0120587 </td></tr>\n",
       "<tr><td>trainable_1b349_00009</td><td>2023-02-13_00-13-38</td><td>True  </td><td>                </td><td>94840e31b7634e229ddc84afaeca5f97</td><td>cn605-25-r</td><td style=\"text-align: right;\">                        20</td><td>10.109.75.146</td><td style=\"text-align: right;\">140611</td><td style=\"text-align: right;\">24.4205 </td><td style=\"text-align: right;\">           0.0910935</td><td style=\"text-align: right;\">        0.00201607</td><td style=\"text-align: right;\">     0.0910935</td><td style=\"text-align: right;\"> 1676236418</td><td style=\"text-align: right;\">                        0</td><td>                 </td><td style=\"text-align: right;\">                  20</td><td>1b349_00009</td><td style=\"text-align: right;\">   0.0120587 </td></tr>\n",
       "<tr><td>trainable_1b349_00010</td><td>2023-02-13_00-13-38</td><td>True  </td><td>                </td><td>94840e31b7634e229ddc84afaeca5f97</td><td>cn605-25-r</td><td style=\"text-align: right;\">                        20</td><td>10.109.75.146</td><td style=\"text-align: right;\">140611</td><td style=\"text-align: right;\">40.6534 </td><td style=\"text-align: right;\">           0.0723817</td><td style=\"text-align: right;\">        0.00347948</td><td style=\"text-align: right;\">     0.0723817</td><td style=\"text-align: right;\"> 1676236418</td><td style=\"text-align: right;\">                        0</td><td>                 </td><td style=\"text-align: right;\">                  20</td><td>1b349_00010</td><td style=\"text-align: right;\">   0.0120587 </td></tr>\n",
       "<tr><td>trainable_1b349_00011</td><td>2023-02-13_00-13-38</td><td>True  </td><td>                </td><td>94840e31b7634e229ddc84afaeca5f97</td><td>cn605-25-r</td><td style=\"text-align: right;\">                        20</td><td>10.109.75.146</td><td style=\"text-align: right;\">140611</td><td style=\"text-align: right;\">33.025  </td><td style=\"text-align: right;\">           0.0845535</td><td style=\"text-align: right;\">        0.00725889</td><td style=\"text-align: right;\">     0.0845535</td><td style=\"text-align: right;\"> 1676236418</td><td style=\"text-align: right;\">                        0</td><td>                 </td><td style=\"text-align: right;\">                  20</td><td>1b349_00011</td><td style=\"text-align: right;\">   0.0120587 </td></tr>\n",
       "<tr><td>trainable_1b349_00012</td><td>2023-02-13_00-13-38</td><td>True  </td><td>                </td><td>94840e31b7634e229ddc84afaeca5f97</td><td>cn605-25-r</td><td style=\"text-align: right;\">                        20</td><td>10.109.75.146</td><td style=\"text-align: right;\">140611</td><td style=\"text-align: right;\">40.3156 </td><td style=\"text-align: right;\">           0.0773044</td><td style=\"text-align: right;\">        0.00200725</td><td style=\"text-align: right;\">     0.0773044</td><td style=\"text-align: right;\"> 1676236418</td><td style=\"text-align: right;\">                        0</td><td>                 </td><td style=\"text-align: right;\">                  20</td><td>1b349_00012</td><td style=\"text-align: right;\">   0.0120587 </td></tr>\n",
       "<tr><td>trainable_1b349_00013</td><td>2023-02-13_00-13-38</td><td>True  </td><td>                </td><td>94840e31b7634e229ddc84afaeca5f97</td><td>cn605-25-r</td><td style=\"text-align: right;\">                        20</td><td>10.109.75.146</td><td style=\"text-align: right;\">140611</td><td style=\"text-align: right;\">41.0644 </td><td style=\"text-align: right;\">           0.0731924</td><td style=\"text-align: right;\">        0.00239682</td><td style=\"text-align: right;\">     0.0731924</td><td style=\"text-align: right;\"> 1676236418</td><td style=\"text-align: right;\">                        0</td><td>                 </td><td style=\"text-align: right;\">                  20</td><td>1b349_00013</td><td style=\"text-align: right;\">   0.0120587 </td></tr>\n",
       "<tr><td>trainable_1b349_00014</td><td>2023-02-13_00-13-38</td><td>True  </td><td>                </td><td>94840e31b7634e229ddc84afaeca5f97</td><td>cn605-25-r</td><td style=\"text-align: right;\">                        20</td><td>10.109.75.146</td><td style=\"text-align: right;\">140611</td><td style=\"text-align: right;\"> 1.46875</td><td style=\"text-align: right;\">           0.0857847</td><td style=\"text-align: right;\">        0.00264096</td><td style=\"text-align: right;\">     0.0857847</td><td style=\"text-align: right;\"> 1676236418</td><td style=\"text-align: right;\">                        0</td><td>                 </td><td style=\"text-align: right;\">                  20</td><td>1b349_00014</td><td style=\"text-align: right;\">   0.0120587 </td></tr>\n",
       "<tr><td>trainable_1b349_00015</td><td>2023-02-13_00-13-39</td><td>True  </td><td>                </td><td>94840e31b7634e229ddc84afaeca5f97</td><td>cn605-25-r</td><td style=\"text-align: right;\">                        20</td><td>10.109.75.146</td><td style=\"text-align: right;\">140611</td><td style=\"text-align: right;\">40.4531 </td><td style=\"text-align: right;\">           0.118192 </td><td style=\"text-align: right;\">        0.00415659</td><td style=\"text-align: right;\">     0.118192 </td><td style=\"text-align: right;\"> 1676236419</td><td style=\"text-align: right;\">                        0</td><td>                 </td><td style=\"text-align: right;\">                  20</td><td>1b349_00015</td><td style=\"text-align: right;\">   0.0120587 </td></tr>\n",
       "<tr><td>trainable_1b349_00016</td><td>2023-02-13_00-13-39</td><td>True  </td><td>                </td><td>94840e31b7634e229ddc84afaeca5f97</td><td>cn605-25-r</td><td style=\"text-align: right;\">                        20</td><td>10.109.75.146</td><td style=\"text-align: right;\">140611</td><td style=\"text-align: right;\">36.45   </td><td style=\"text-align: right;\">           0.0798934</td><td style=\"text-align: right;\">        0.00236249</td><td style=\"text-align: right;\">     0.0798934</td><td style=\"text-align: right;\"> 1676236419</td><td style=\"text-align: right;\">                        0</td><td>                 </td><td style=\"text-align: right;\">                  20</td><td>1b349_00016</td><td style=\"text-align: right;\">   0.0120587 </td></tr>\n",
       "<tr><td>trainable_1b349_00017</td><td>2023-02-13_00-13-39</td><td>True  </td><td>                </td><td>94840e31b7634e229ddc84afaeca5f97</td><td>cn605-25-r</td><td style=\"text-align: right;\">                        20</td><td>10.109.75.146</td><td style=\"text-align: right;\">140611</td><td style=\"text-align: right;\">94.1641 </td><td style=\"text-align: right;\">           0.0704467</td><td style=\"text-align: right;\">        0.0019896 </td><td style=\"text-align: right;\">     0.0704467</td><td style=\"text-align: right;\"> 1676236419</td><td style=\"text-align: right;\">                        0</td><td>                 </td><td style=\"text-align: right;\">                  20</td><td>1b349_00017</td><td style=\"text-align: right;\">   0.0120587 </td></tr>\n",
       "<tr><td>trainable_1b349_00018</td><td>2023-02-13_00-13-39</td><td>True  </td><td>                </td><td>94840e31b7634e229ddc84afaeca5f97</td><td>cn605-25-r</td><td style=\"text-align: right;\">                        20</td><td>10.109.75.146</td><td style=\"text-align: right;\">140611</td><td style=\"text-align: right;\">96.0044 </td><td style=\"text-align: right;\">           0.0730739</td><td style=\"text-align: right;\">        0.0026443 </td><td style=\"text-align: right;\">     0.0730739</td><td style=\"text-align: right;\"> 1676236419</td><td style=\"text-align: right;\">                        0</td><td>                 </td><td style=\"text-align: right;\">                  20</td><td>1b349_00018</td><td style=\"text-align: right;\">   0.0120587 </td></tr>\n",
       "<tr><td>trainable_1b349_00019</td><td>2023-02-13_00-13-39</td><td>True  </td><td>                </td><td>94840e31b7634e229ddc84afaeca5f97</td><td>cn605-25-r</td><td style=\"text-align: right;\">                        20</td><td>10.109.75.146</td><td style=\"text-align: right;\">140611</td><td style=\"text-align: right;\">34.6067 </td><td style=\"text-align: right;\">           0.0740464</td><td style=\"text-align: right;\">        0.00194693</td><td style=\"text-align: right;\">     0.0740464</td><td style=\"text-align: right;\"> 1676236419</td><td style=\"text-align: right;\">                        0</td><td>                 </td><td style=\"text-align: right;\">                  20</td><td>1b349_00019</td><td style=\"text-align: right;\">   0.0120587 </td></tr>\n",
       "</tbody>\n",
       "</table>\n",
       "</div>\n",
       "<style>\n",
       ".trialProgress {\n",
       "  display: flex;\n",
       "  flex-direction: column;\n",
       "  color: var(--jp-ui-font-color1);\n",
       "}\n",
       ".trialProgress h3 {\n",
       "  font-weight: bold;\n",
       "}\n",
       ".trialProgress td {\n",
       "  white-space: nowrap;\n",
       "}\n",
       "</style>\n"
      ],
      "text/plain": [
       "<IPython.core.display.HTML object>"
      ]
     },
     "metadata": {},
     "output_type": "display_data"
    },
    {
     "name": "stderr",
     "output_type": "stream",
     "text": [
      "2023-02-13 00:13:47,567\tINFO tune.py:762 -- Total run time: 14.35 seconds (13.21 seconds for the tuning loop).\n"
     ]
    }
   ],
   "source": [
    "analysis = tune.run(\n",
    "    trainable,\n",
    "    num_samples=20,\n",
    "    stop={\"training_iteration\": 20},\n",
    "    resources_per_trial={\"cpu\":1},\n",
    "    config={\"a\": tune.uniform(0, 20),\n",
    "            \"b\": tune.uniform(0,20)},\n",
    "    max_concurrent_trials=8 )"
   ]
  },
  {
   "cell_type": "code",
   "execution_count": 9,
   "id": "e0478db4",
   "metadata": {
    "tags": []
   },
   "outputs": [
    {
     "name": "stdout",
     "output_type": "stream",
     "text": [
      "Best config is: {'a': 18.30500710783623, 'b': 16.214732789759452}\n"
     ]
    }
   ],
   "source": [
    "print(\"Best config is:\", analysis.get_best_config(metric=\"score\", mode=\"max\"))"
   ]
  },
  {
   "cell_type": "code",
   "execution_count": 16,
   "id": "7eec3944",
   "metadata": {
    "tags": []
   },
   "outputs": [
    {
     "data": {
      "text/plain": [
       "trainable_1b349_00018"
      ]
     },
     "execution_count": 16,
     "metadata": {},
     "output_type": "execute_result"
    }
   ],
   "source": [
    "analysis.get_best_trial(metric='score',mode='max')"
   ]
  },
  {
   "cell_type": "code",
   "execution_count": null,
   "id": "8ffe6473-ad8e-4ef2-9e84-941d51fd11f1",
   "metadata": {},
   "outputs": [],
   "source": []
  }
 ],
 "metadata": {
  "kernelspec": {
   "display_name": "Python 3 (ipykernel)",
   "language": "python",
   "name": "python3"
  },
  "language_info": {
   "codemirror_mode": {
    "name": "ipython",
    "version": 3
   },
   "file_extension": ".py",
   "mimetype": "text/x-python",
   "name": "python",
   "nbconvert_exporter": "python",
   "pygments_lexer": "ipython3",
   "version": "3.9.16"
  }
 },
 "nbformat": 4,
 "nbformat_minor": 5
}
